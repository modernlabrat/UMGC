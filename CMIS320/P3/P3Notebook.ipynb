{
    "metadata": {
        "kernelspec": {
            "name": "SQL",
            "display_name": "SQL",
            "language": "sql"
        },
        "language_info": {
            "name": "sql",
            "version": ""
        }
    },
    "nbformat_minor": 2,
    "nbformat": 4,
    "cells": [
        {
            "cell_type": "markdown",
            "source": [
                "Kyra Samuel\n",
                "\n",
                "CMIS 320\n",
                "\n",
                "Project 3 \n",
                "\n",
                "03/30/2021"
            ],
            "metadata": {
                "azdata_cell_guid": "fc9d1b18-bf1d-4cfa-87e8-45bf37757732"
            }
        },
        {
            "cell_type": "markdown",
            "source": [
                "# Create Tables"
            ],
            "metadata": {
                "azdata_cell_guid": "189155ac-c5e9-48f8-8985-efb81f520bd4"
            }
        },
        {
            "cell_type": "code",
            "source": [
                "CREATE TABLE Castmates(\r\n",
                "    castmate_id VARCHAR(15) NOT NULL PRIMARY KEY,\r\n",
                "    full_name VARCHAR(100) NOT NULL,\r\n",
                "    gender VARCHAR(15), \r\n",
                ");\r\n",
                "\r\n",
                "CREATE TABLE Genres(\r\n",
                "    genre_name VARCHAR(100) NOT NULL UNIQUE,\r\n",
                "    discount int\r\n",
                ");\r\n",
                "\r\n",
                "CREATE TABLE Movies(\r\n",
                "    movie_id VARCHAR(15) NOT NULL PRIMARY KEY,\r\n",
                "    title VARCHAR(100) NOT NULL,\r\n",
                "    rating float,\r\n",
                "    release_year NUMERIC(4,0) NOT NULL,\r\n",
                ");\r\n",
                "\r\n",
                "CREATE TABLE Involvements(\r\n",
                "    castmate VARCHAR(15) NOT NULL FOREIGN KEY REFERENCES Castmates(castmate_id),\r\n",
                "    movie VARCHAR(15) NOT NULL FOREIGN KEY REFERENCES Movies(movie_id),\r\n",
                "    castmate_type VARCHAR(25) NOT NULL,\r\n",
                "    character_name VARCHAR(255),\r\n",
                ");\r\n",
                "\r\n",
                "CREATE TABLE Distributors(\r\n",
                "    distributor_id VARCHAR(15) NOT NULL PRIMARY KEY,\r\n",
                "    company VARCHAR(100) NOT NULL UNIQUE\r\n",
                ");\r\n",
                "\r\n",
                "CREATE TABLE Videos(\r\n",
                "    video_id VARCHAR(15) NOT NULL PRIMARY KEY,\r\n",
                "    movie VARCHAR(15) NOT NULL FOREIGN KEY REFERENCES Movies(movie_id),\r\n",
                "    quantity INT NOT NULL,\r\n",
                "    distributor_sn VARCHAR(15) NOT NULL FOREIGN KEY REFERENCES Distributors(distributor_id),\r\n",
                "    distributor_movie_id VARCHAR(100) NOT NULL,\r\n",
                "    running_length int NOT NULL,\r\n",
                "    price FLOAT NOT NULL,\r\n",
                "    rented_count INT NOT NULL,\r\n",
                "    genre VARCHAR(100) NOT NULL REFERENCES Genres(genre_name),\r\n",
                "    UNIQUE(distributor_movie_id)\r\n",
                ");\r\n",
                "\r\n",
                "CREATE TABLE DVDs(\r\n",
                "    dvd_id VARCHAR(15) NOT NULL PRIMARY KEY,\r\n",
                "    movie VARCHAR(15) NOT NULL FOREIGN KEY REFERENCES Movies(movie_id),\r\n",
                "    quantity INT NOT NULL,\r\n",
                "    distributor_sn VARCHAR(15) NOT NULL FOREIGN KEY REFERENCES Distributors(distributor_id),\r\n",
                "    distributor_movie_id VARCHAR(100) NOT NULL,\r\n",
                "    running_length int NOT NULL,\r\n",
                "    price FLOAT NOT NULL,\r\n",
                "    rented_count INT NOT NULL,\r\n",
                "    genre VARCHAR(100) NOT NULL REFERENCES Genres(genre_name),\r\n",
                "    UNIQUE(distributor_movie_id)\r\n",
                ");\r\n",
                "\r\n",
                "CREATE TABLE Awards(\r\n",
                "    award_name VARCHAR(100) NOT NULL,\r\n",
                "    category VARCHAR(100) NOT NULL,\r\n",
                "    movie VARCHAR(15) NOT NULL FOREIGN KEY REFERENCES Movies(movie_id),\r\n",
                "    castmate VARCHAR(15) FOREIGN KEY REFERENCES Castmates(castmate_id),\r\n",
                "    year int NOT NULL,\r\n",
                ")\r\n",
                "\r\n",
                "CREATE TABLE Customers(\r\n",
                "    customer_id VARCHAR(15) NOT NULL PRIMARY KEY,\r\n",
                "    full_name VARCHAR(100) NOT NULL,\r\n",
                "    phone_number VARCHAR(15) NOT NULL,\r\n",
                "    email VARCHAR(100) NOT NULL,\r\n",
                "    res_address VARCHAR(100) NOT NULL,\r\n",
                "    UNIQUE(phone_number, email)\r\n",
                ");\r\n",
                "\r\n",
                "CREATE TABLE VideoInvoices(\r\n",
                "    video_invoice_id VARCHAR(15) NOT NULL PRIMARY KEY,\r\n",
                "    customer VARCHAR(15) NOT NULL FOREIGN KEY REFERENCES Customers(customer_id),\r\n",
                "    video  VARCHAR(15) NOT NULL FOREIGN KEY REFERENCES Videos(video_id),\r\n",
                "    rented_on DATETIME NOT NULL,\r\n",
                "    return_status BIT NOT NULL,\r\n",
                "    returned_on DATETIME\r\n",
                ");\r\n",
                "\r\n",
                "CREATE TABLE DVDInvoices(\r\n",
                "    dvd_invoice_id VARCHAR(15) NOT NULL PRIMARY KEY,\r\n",
                "    customer VARCHAR(15) NOT NULL FOREIGN KEY REFERENCES Customers(customer_id),\r\n",
                "    dvd  VARCHAR(15) NOT NULL FOREIGN KEY REFERENCES DVDs(dvd_id),\r\n",
                "    rented_on DATETIME NOT NULL,\r\n",
                "    return_status BIT NOT NULL,\r\n",
                "    returned_on DATETIME\r\n",
                ");\r\n",
                "\r\n",
                "CREATE TABLE VideoCharges(\r\n",
                "    video_charge_id VARCHAR(15) NOT NULL PRIMARY KEY,\r\n",
                "    video_invoice VARCHAR(15) NOT NULL FOREIGN KEY REFERENCES VideoInvoices(video_invoice_id),\r\n",
                "    charge_type int NOT NULL,\r\n",
                "    charge_fee float NOT NULL,\r\n",
                "    customer VARCHAR(15) NOT NULL FOREIGN KEY REFERENCES Customers(customer_id),\r\n",
                "    charge_date DATETIME NOT NULL,\r\n",
                "    tax float,\r\n",
                "    paid_status BIT NOT NULL\r\n",
                ")\r\n",
                "\r\n",
                "CREATE TABLE DVDCharges(\r\n",
                "    dvd_charge_id VARCHAR(15) NOT NULL PRIMARY KEY,\r\n",
                "    dvd_invoice VARCHAR(15) NOT NULL FOREIGN KEY REFERENCES DVDInvoices(dvd_invoice_id),\r\n",
                "    charge_type int NOT NULL,\r\n",
                "    charge_fee float NOT NULL,\r\n",
                "    customer VARCHAR(15) NOT NULL FOREIGN KEY REFERENCES Customers(customer_id),\r\n",
                "    charge_date DATETIME NOT NULL,\r\n",
                "    tax float,\r\n",
                "    paid_status BIT NOT NULL\r\n",
                ")"
            ],
            "metadata": {
                "azdata_cell_guid": "18ff1f20-e78e-4d4a-9627-704abbdb8907",
                "tags": [
                    "hide_input"
                ]
            },
            "outputs": [],
            "execution_count": null
        },
        {
            "cell_type": "markdown",
            "source": [
                "# Fill Tables"
            ],
            "metadata": {
                "azdata_cell_guid": "39e6e187-7eba-46c2-8bfc-7882a335c01f"
            }
        },
        {
            "cell_type": "code",
            "source": [
                "INSERT INTO Distributors(distributor_id, company)\r\n",
                "VALUES\r\n",
                "('2YHZSEANXC', 'Film Gateway'),\r\n",
                "('H5OD2LA5V6', 'Katies Stores'),\r\n",
                "('7PCF6PBU5S', 'Premier Wholesale Distributor'),\r\n",
                "('OUZ2OF35HA', 'Garden State Movies'),\r\n",
                "('RYLIRUBDU8', 'DVD Wholesale'),\r\n",
                "('Q4PXHQZGXQ', 'Seller Central'),\r\n",
                "('EN7UYJNWGC', 'Wholesale Discs');\r\n",
                "\r\n",
                "INSERT INTO Genres(genre_name, discount)\r\n",
                "VALUES \r\n",
                "('Action', 10),\r\n",
                "('Comedy', null),\r\n",
                "('Horror', 5),\r\n",
                "('Thriller', null),\r\n",
                "('Documentary', null),\r\n",
                "('Crime', null),\r\n",
                "('Romance', 10),\r\n",
                "('Science Fiction', null),\r\n",
                "('Musical', null);\r\n",
                "\r\n",
                "INSERT INTO Movies(movie_id, title, rating, release_year)\r\n",
                "VALUES\r\n",
                "('GSX70RS35N', 'The Wolf on Wall Street', 8.2, 2013),\r\n",
                "('EKA52BBRAT', 'Toy Story 4', 7.8, 2019),\r\n",
                "('3HBUM8HQ9R', 'Ma', 5.6, 2019),\r\n",
                "('USEY0ELAWO', 'Gone Girl', 8.1, 2014),\r\n",
                "('BTFNB6PPJD', 'Avengers: Infinity War', 8.4, 2018),\r\n",
                "('E542HUYXFP', '12 Years a Slave', 8.1, 2013),\r\n",
                "('1GI1MHOO2B', 'Parasite', 8.6, 2019),\r\n",
                "('7SCUNEBMUH', 'Get Out', 7.7, 2017),\r\n",
                "('B8AKYRZZUT', 'Us', 6.8, 2019),\r\n",
                "('NX16Y8A736', 'Argo', 7.7, 2012);\r\n",
                "\r\n",
                "INSERT INTO Castmates( castmate_id, full_name, gender )\r\n",
                "VALUES \r\n",
                "('LKRVEPT78P', 'Leonardo DiCaprio', 'male'),\r\n",
                "('U9V5N9QYY9', 'Margot Robbie', 'female'),\r\n",
                "('ICJSICD9CI', 'Tyler Perry', 'male'),\r\n",
                "('BLVB5ZIT3G', 'Damien Chazelle', 'male'),\r\n",
                "('3JB4GESGB2', 'Alejandro G. Iñárritu', 'male'),\r\n",
                "('6K0EPA940X', 'Danny Boyle', 'male'),\r\n",
                "('SBNGFZN1TV', 'Woody Allen', 'male'),\r\n",
                "('FVMYAKBLE1', 'Joel Coen', 'male'),\r\n",
                "('0TWYSTBNRR', 'Ethan Coen', 'male'),\r\n",
                "('NMX3OEDIAG', 'Viola Davis', 'female'),\r\n",
                "('IRHAJMYLJ8', 'Meryl Streep', 'female'),\r\n",
                "('7AFVLS794J', 'Katharine Hepburn', 'female'),\r\n",
                "('DHWZON2KW4', 'Samuel L. Jackson', 'male'),\r\n",
                "('Q2Z4RUT2TX', 'Will Smith', 'male'),\r\n",
                "('89QCKP81ZI','Jonah Hill', 'male'),\r\n",
                "('UG36L3FSHZ','Martin Scorsese', 'male'),\r\n",
                "('E6MRQJLL8S','Jordan Peele', 'male'),\r\n",
                "('3P8B5RTU99', 'Lupita Nyong''o', 'female'),\r\n",
                "('8G0O4OD530', 'Gabe Wilson', 'male'),\r\n",
                "('32KQJTDQGE', 'Cho Yeo-jeong', 'female'),\r\n",
                "('W4QQ31IYYM', 'Park So-dam Ki-jung', 'female'),\r\n",
                "('A8B0PY6SJ6', 'Woo-sik Choi Ki-woo', 'male'),\r\n",
                "('FMPV7EVXAS', 'Bong Joon-ho', 'male'),\r\n",
                "('6KEU7CNOSR', 'Daniel Kaluuya', 'male'),\r\n",
                "('KHXOZ2JCVP', 'Allison Williams', 'female'),\r\n",
                "('AIB3LEHYJ1', 'Tom Hanks', 'male'),\r\n",
                "('SFQVKMAODX', 'Tim Allen', 'male'),\r\n",
                "('X940HB7SGP', 'Keanu Reeves', 'male'),\r\n",
                "('OYDCWN89H7', 'Alan Arkin', 'male'),\r\n",
                "('UGI0VSRUOX', 'Ben Affleck', 'male'),\r\n",
                "('E37RNFR3OO', 'Bryan Cranston', 'male'),\r\n",
                "('XYTVBY9QMG', 'Scarlett Johansson', 'female'),\r\n",
                "('VBZR6WRILY', 'Robert Downey Jr.', 'male'),\r\n",
                "('9I7KZUCGNG', 'Chris Evans', 'male'),\r\n",
                "('UV4T7FDA6O', 'Chris Hemsworth', 'male'),\r\n",
                "('VJT4P3O8AK', 'Mark Ruffalo', 'male'),\r\n",
                "('62P01JU4ZA', 'Morgan Freeman', 'male'),\r\n",
                "('E2DGPBHDCJ', 'Elizabeth Olsen', 'female'),\r\n",
                "('AUK7VCMRLS', 'Channing Tatum', 'male'),\r\n",
                "('29YHE71EMR', 'Stan Lee', 'male'),\r\n",
                "('5K15CUM8YW', 'Anthony Russo', 'male'),\r\n",
                "('C611O33MOC', 'Joe Russo', 'male'),\r\n",
                "('AQ8HPC5N4I', 'Joss Whedon', 'male'),\r\n",
                "('XOM56IGXWZ', 'Rosamund Pike', 'female'),\r\n",
                "('2NTR05RF6K', 'David Fincher', 'female'),\r\n",
                "('MTT35T2BM9', 'Chiwetel Ejiofor', 'male'),\r\n",
                "('92RM08NNMP', 'Michael Fassbender', 'male'),\r\n",
                "('S9YC7O8ZLN', 'Brad Pitt', 'male'),\r\n",
                "('828ZXEA8WC', 'Steve McQueen', 'male');\r\n",
                "\r\n",
                "INSERT INTO Videos ( video_id, movie, quantity, distributor_sn,\r\n",
                "    distributor_movie_id, running_length, price,\r\n",
                "    rented_count, genre)\r\n",
                "VALUES\r\n",
                "('CWIUWZCWCF', (SELECT movie_id FROM Movies WHERE movie_id='GSX70RS35N'), 40, (SELECT distributor_id FROM Distributors WHERE distributor_id='Q4PXHQZGXQ'), 'ZbsbbAHBU1cs', 190, 3.99, 6, (SELECT genre_name FROM Genres WHERE genre_name='Comedy')),\r\n",
                "('X4FFBEOQPV', (SELECT movie_id FROM Movies WHERE movie_id='GSX70RS35N'), 25, (SELECT distributor_id FROM Distributors WHERE distributor_id='7PCF6PBU5S'), 'ncKq5TMEythR', 185, 2.99, 10, (SELECT genre_name FROM Genres WHERE genre_name='Comedy')),\r\n",
                "('84QITDHT21', (SELECT movie_id FROM Movies WHERE movie_id='7SCUNEBMUH'), 35, (SELECT distributor_id FROM Distributors WHERE distributor_id='H5OD2LA5V6'), 'BbKShA8dLRWw', 130, 3.55, 4, (SELECT genre_name FROM Genres WHERE genre_name='Horror')),\r\n",
                "('I7H9SH7MDE', (SELECT movie_id FROM Movies WHERE movie_id='B8AKYRZZUT'), 15, (SELECT distributor_id FROM Distributors WHERE distributor_id='EN7UYJNWGC'), '19CyymFYjOLt', 125, 3.90, 5, (SELECT genre_name FROM Genres WHERE genre_name='Horror')),\r\n",
                "('YHSNKU4OUD', (SELECT movie_id FROM Movies WHERE movie_id='7SCUNEBMUH'), 35, (SELECT distributor_id FROM Distributors WHERE distributor_id='H5OD2LA5V6'), 'j7JP3Z49KQeq', 128, 2.40, 7, (SELECT genre_name FROM Genres WHERE genre_name='Horror')),\r\n",
                "('P2898R2LD8', (SELECT movie_id FROM Movies WHERE movie_id='E542HUYXFP'), 45, (SELECT distributor_id FROM Distributors WHERE distributor_id='RYLIRUBDU8'), 'yWK9FvNzBxFn', 184, 2.50, 13, (SELECT genre_name FROM Genres WHERE genre_name='Drama')), \r\n",
                "('M7ELA9GCZL', (SELECT movie_id FROM Movies WHERE movie_id='NX16Y8A736'), 30, (SELECT distributor_id FROM Distributors WHERE distributor_id='Q4PXHQZGXQ'), '7zLmedj0c31u', 134, 3.30, 7, (SELECT genre_name FROM Genres WHERE genre_name='Drama')),\r\n",
                "('VKBF5B23RM', (SELECT movie_id FROM Movies WHERE movie_id='BTFNB6PPJD'), 25, (SELECT distributor_id FROM Distributors WHERE distributor_id='EN7UYJNWGC'), 'IJGu8oOZLCds', 190, 2.99, 11, (SELECT genre_name FROM Genres WHERE genre_name='Action'));\r\n",
                "\r\n",
                "\r\n",
                "INSERT INTO DVDs ( dvd_id, movie, quantity, distributor_sn,\r\n",
                "    distributor_movie_id, running_length, price,\r\n",
                "    rented_count, genre)\r\n",
                "VALUES\r\n",
                "('CWIUWZCWCF', (SELECT movie_id FROM Movies WHERE movie_id='USEY0ELAWO'), 10, (SELECT distributor_id FROM Distributors WHERE distributor_id='2YHZSEANXC'), 'ZbsbbAHBU1cs', 172, 4.99, 12, (SELECT genre_name FROM Genres WHERE genre_name='Mystery')),\r\n",
                "('X4FFBEOQPV', (SELECT movie_id FROM Movies WHERE movie_id='GSX70RS35N'), 25, (SELECT distributor_id FROM Distributors WHERE distributor_id='7PCF6PBU5S'), 'ncKq5TMEythR', 100, 3.99, 14, (SELECT genre_name FROM Genres WHERE genre_name='Thriller')),\r\n",
                "('84QITDHT21', (SELECT movie_id FROM Movies WHERE movie_id='3HBUM8HQ9R'), 25, (SELECT distributor_id FROM Distributors WHERE distributor_id='H5OD2LA5V6'), 'BbKShA8dLRWw', 130, 4.75, 11, (SELECT genre_name FROM Genres WHERE genre_name='Horror')),\r\n",
                "('I7H9SH7MDE', (SELECT movie_id FROM Movies WHERE movie_id='1GI1MHOO2B'), 5, (SELECT distributor_id FROM Distributors WHERE distributor_id='OUZ2OF35HA'), '19CyymFYjOLt', 135, 4.90, 12, (SELECT genre_name FROM Genres WHERE genre_name='Dark Comedy')),\r\n",
                "('YHSNKU4OUD', (SELECT movie_id FROM Movies WHERE movie_id='USEY0ELAWO'), 25, (SELECT distributor_id FROM Distributors WHERE distributor_id='H5OD2LA5V6'), 'j7JP3Z49KQeq', 168, 3.85, 3, (SELECT genre_name FROM Genres WHERE genre_name='Mystery')),\r\n",
                "('P2898R2LD8', (SELECT movie_id FROM Movies WHERE movie_id='E542HUYXFP'), 20, (SELECT distributor_id FROM Distributors WHERE distributor_id='RYLIRUBDU8'), 'yWK9FvNzBxFn', 184, 3.80, 13, (SELECT genre_name FROM Genres WHERE genre_name='Drama')), \r\n",
                "('M7ELA9GCZL', (SELECT movie_id FROM Movies WHERE movie_id='NX16Y8A736'), 10, (SELECT distributor_id FROM Distributors WHERE distributor_id='OUZ2OF35HA'), '7zLmedj0c31u', 134, 4.60, 8, (SELECT genre_name FROM Genres WHERE genre_name='Drama')),\r\n",
                "('VKBF5B23RM', (SELECT movie_id FROM Movies WHERE movie_id='BTFNB6PPJD'), 15, (SELECT distributor_id FROM Distributors WHERE distributor_id='EN7UYJNWGC'), 'IJGu8oOZLCds', 190, 3.89, 15, (SELECT genre_name FROM Genres WHERE genre_name='Action'));\r\n",
                "\r\n",
                "INSERT INTO Involvements(castmate, movie, castmate_type, character_name)\r\n",
                "VALUES\r\n",
                "((SELECT castmate_id FROM Castmates WHERE castmate_id='3P8B5RTU99'),(SELECT movie_id FROM Movies WHERE movie_id='E542HUYXFP'),'actress','Patsey'),\r\n",
                "((SELECT castmate_id FROM Castmates WHERE castmate_id='3P8B5RTU99'),(SELECT movie_id FROM Movies WHERE movie_id='B8AKYRZZUT'),'actress','Red'),\r\n",
                "((SELECT castmate_id FROM Castmates WHERE castmate_id='UGI0VSRUOX'),(SELECT movie_id FROM Movies WHERE movie_id='USEY0ELAWO'),'actor','Nick Dunne'),\r\n",
                "((SELECT castmate_id FROM Castmates WHERE castmate_id='XOM56IGXWZ'),(SELECT movie_id FROM Movies WHERE movie_id='USEY0ELAWO'),'actress','Amy Dunne'),\r\n",
                "((SELECT castmate_id FROM Castmates WHERE castmate_id='UGI0VSRUOX'),(SELECT movie_id FROM Movies WHERE movie_id='USEY0ELAWO'),'director', null),\r\n",
                "((SELECT castmate_id FROM Castmates WHERE castmate_id='UGI0VSRUOX'),(SELECT movie_id FROM Movies WHERE movie_id='NX16Y8A736'),'actor','Tony Mendez'),\r\n",
                "((SELECT castmate_id FROM Castmates WHERE castmate_id='UGI0VSRUOX'),(SELECT movie_id FROM Movies WHERE movie_id='NX16Y8A736'),'director',null),\r\n",
                "((SELECT castmate_id FROM Castmates WHERE castmate_id='2NTR05RF6K'),(SELECT movie_id FROM Movies WHERE movie_id='USEY0ELAWO'),'director', null),\r\n",
                "((SELECT castmate_id FROM Castmates WHERE castmate_id='ICJSICD9CI'),(SELECT movie_id FROM Movies WHERE movie_id='USEY0ELAWO'),'director', null),\r\n",
                "((SELECT castmate_id FROM Castmates WHERE castmate_id='XYTVBY9QMG'),(SELECT movie_id FROM Movies WHERE movie_id='BTFNB6PPJD'),'actress', 'Black Widow'),\r\n",
                "((SELECT castmate_id FROM Castmates WHERE castmate_id='VBZR6WRILY'),(SELECT movie_id FROM Movies WHERE movie_id='BTFNB6PPJD'),'actor', 'Iron Man'),\r\n",
                "((SELECT castmate_id FROM Castmates WHERE castmate_id='9I7KZUCGNG'),(SELECT movie_id FROM Movies WHERE movie_id='BTFNB6PPJD'),'actor', 'Captain America'),\r\n",
                "((SELECT castmate_id FROM Castmates WHERE castmate_id='UV4T7FDA6O'),(SELECT movie_id FROM Movies WHERE movie_id='BTFNB6PPJD'),'actor', 'Thor, Thor'),\r\n",
                "((SELECT castmate_id FROM Castmates WHERE castmate_id='VJT4P3O8AK'),(SELECT movie_id FROM Movies WHERE movie_id='BTFNB6PPJD'),'actor', 'Hulk'),\r\n",
                "((SELECT castmate_id FROM Castmates WHERE castmate_id='DHWZON2KW4'),(SELECT movie_id FROM Movies WHERE movie_id='BTFNB6PPJD'),'actor', 'Nick Fury'),\r\n",
                "((SELECT castmate_id FROM Castmates WHERE castmate_id='U9V5N9QYY9'),(SELECT movie_id FROM Movies WHERE movie_id='GSX70RS35N'),'actor', 'Jordan Belfort'),\r\n",
                "((SELECT castmate_id FROM Castmates WHERE castmate_id='89QCKP81ZI'),(SELECT movie_id FROM Movies WHERE movie_id='GSX70RS35N'),'actor', 'Donnie Azoff'),\r\n",
                "((SELECT castmate_id FROM Castmates WHERE castmate_id='E2DGPBHDCJ'),(SELECT movie_id FROM Movies WHERE movie_id='GSX70RS35N'),'actress', 'Naomi Lapaglia'),\r\n",
                "((SELECT castmate_id FROM Castmates WHERE castmate_id='UG36L3FSHZ'),(SELECT movie_id FROM Movies WHERE movie_id='GSX70RS35N'),'director', null),\r\n",
                "((SELECT castmate_id FROM Castmates WHERE castmate_id='AIB3LEHYJ1'),(SELECT movie_id FROM Movies WHERE movie_id='EKA52BBRAT'),'voice actor', 'Sheriff Woody'),\r\n",
                "((SELECT castmate_id FROM Castmates WHERE castmate_id='SFQVKMAODX'),(SELECT movie_id FROM Movies WHERE movie_id='EKA52BBRAT'),'voice actor', 'Buzz Lightyear'),\r\n",
                "((SELECT castmate_id FROM Castmates WHERE castmate_id='X940HB7SGP'),(SELECT movie_id FROM Movies WHERE movie_id='EKA52BBRAT'),'voice actor', 'Duke Cabroom'),\r\n",
                "((SELECT castmate_id FROM Castmates WHERE castmate_id='TBHG1S1HMJ'),(SELECT movie_id FROM Movies WHERE movie_id='3HBUM8HQ9R'),'actress', 'Sue Ann'),\r\n",
                "((SELECT castmate_id FROM Castmates WHERE castmate_id='RX9P4QN148'),(SELECT movie_id FROM Movies WHERE movie_id='3HBUM8HQ9R'),'actress', 'Maggie'),\r\n",
                "((SELECT castmate_id FROM Castmates WHERE castmate_id='WH43GZI5QA'),(SELECT movie_id FROM Movies WHERE movie_id='3HBUM8HQ9R'),'actor', 'Andy Hawkins'),\r\n",
                "((SELECT castmate_id FROM Castmates WHERE castmate_id='XD4VXVVWBI'),(SELECT movie_id FROM Movies WHERE movie_id='3HBUM8HQ9R'),'director', null),\r\n",
                "((SELECT castmate_id FROM Castmates WHERE castmate_id='32KQJTDQGE'),(SELECT movie_id FROM Movies WHERE movie_id='1GI1MHOO2B'),'actress', 'Yeon-kyo'),\r\n",
                "((SELECT castmate_id FROM Castmates WHERE castmate_id='W4QQ31IYYM'),(SELECT movie_id FROM Movies WHERE movie_id='1GI1MHOO2B'),'actress', 'Ki-jung'),\r\n",
                "((SELECT castmate_id FROM Castmates WHERE castmate_id='A8B0PY6SJ6'),(SELECT movie_id FROM Movies WHERE movie_id='1GI1MHOO2B'),'actor', 'Ki-woo'),\r\n",
                "((SELECT castmate_id FROM Castmates WHERE castmate_id='FMPV7EVXAS'),(SELECT movie_id FROM Movies WHERE movie_id='1GI1MHOO2B'),'director', null),\r\n",
                "((SELECT castmate_id FROM Castmates WHERE castmate_id='6KEU7CNOSR'),(SELECT movie_id FROM Movies WHERE movie_id='7SCUNEBMUH'),'actor', 'Chris Washington'),\r\n",
                "((SELECT castmate_id FROM Castmates WHERE castmate_id='KHXOZ2JCVP'),(SELECT movie_id FROM Movies WHERE movie_id='7SCUNEBMUH'),'actress', 'Rose Armitage'),\r\n",
                "((SELECT castmate_id FROM Castmates WHERE castmate_id='E6MRQJLL8S'),(SELECT movie_id FROM Movies WHERE movie_id='7SCUNEBMUH'),'director', null),\r\n",
                "((SELECT castmate_id FROM Castmates WHERE castmate_id='E6MRQJLL8S'),(SELECT movie_id FROM Movies WHERE movie_id='B8AKYRZZUT'),'director', null);\r\n",
                "\r\n",
                "INSERT INTO Customers(customer_id, full_name, phone_number, email, res_address)\r\n",
                "VALUES\r\n",
                "('Q5C5EEHW5K', 'Joie Mentzer', '5404346563', 'jmentzer@gmail.com', '123 sally lane 23451'),\r\n",
                "('K9387LGYC0', 'Lola Holeman', '2025456554', 'lholeman@outlook.com', '123 sally lane 23451'),\r\n",
                "('SHE6L4PI5H', 'McKenzie Tincher', '2024765435', 'mtincher@gmail.com', '123 sally lane 23451'),\r\n",
                "('NSOAVFDPRR', 'Cathryn Folts', '7574878683', 'cfoltz@gmail.com', '123 sally lane 23451'),\r\n",
                "('JKRYR1C68D', 'Fred Johnson', '5714765554', 'fjohnson@yahoo.com', '123 sally lane 23451'),\r\n",
                "('L56ZMK77JJ', 'Carly Davies', '5408776757', 'cdavies@aol.com', '123 sally lane 23451'),\r\n",
                "('2267Y1N1D5', 'Martin Roger', '5712535435', 'mroger@outlook.com', '123 sally lane 23451'),\r\n",
                "('LK0KE5XYR0', 'Gianna Mendez', '5718768767', 'gmendez@gmail.com', '123 sally lane 23451'),\r\n",
                "('LZL160YHEA', 'Frankie Wilson', '5716542532', 'fwilson@yahoo.com', '123 sally lane 23451'),\r\n",
                "('1R4SUICA6R', 'Percy Smith', '2024899904', 'psmith@gmail.com', '123 sally lane 23451'),\r\n",
                "('KJSM4Q3BNY', 'Dianna Washington', '2027657764', 'dwashington@gmail.com', '123 sally lane 23451'),\r\n",
                "('CSQ3GYHY5H', 'Forgy Armstrong', '2026540963', 'farmstrong@aol.com', '123 sally lane 23451'),\r\n",
                "('QU5OQ64KWK', 'Kyra Samuel', '5404325455', 'ksamuel@gmail.com', '123 sally lane 23451'),\r\n",
                "('3ER91F9TZ7', 'Gregory Kay', '7577657856', 'gkay@yahoo.com', '123 sally lane 23451'),\r\n",
                "('KG0TVUDHFM', 'Mason Turner', '7576346352', 'mturner@aol.com', '123 sally lane 23451'),\r\n",
                "('MKFC4E0DFC', 'Luke Matthews', '7570432427', 'lmatthews@yahoo.com', '123 sally lane 23451'),\r\n",
                "('75W4OKI1P2', 'Kaiden Choi', '7576546904', 'kchoi@aol.com', '123 sally lane 23451'),\r\n",
                "('BHDWB3OC9S', 'Nasir Rodrigues', '5404346560', 'nrodrigues@gmail.com', '123 sally lane 23451'),\r\n",
                "('37K7Y6OKHB', 'Oluwasum Fields', '5715436739', 'ofields@outlook.com', '123 sally lane 23451'),\r\n",
                "('TCYIE5YYHH', 'Bobby Glover', '7574543542', 'bglover@aol.com', '123 sally lane 23451'),\r\n",
                "('342QB52XB6', 'Vivian Richards', '2020645646', 'vrichards@outlook.com', '123 sally lane 23451'),\r\n",
                "('KDRA2FHNHU', 'Kristian Browns', '5408365466', 'kbrowns@gmail.com', '123 sally lane 23451'),\r\n",
                "('4KJ06O2QMD', 'Pok Higgins', '5409069906', 'phiggins@yahoo.com', '123 sally lane 23451');"
            ],
            "metadata": {
                "azdata_cell_guid": "f8f9084b-73ac-44e3-a986-f8d37d1424f8",
                "tags": []
            },
            "outputs": [],
            "execution_count": null
        },
        {
            "cell_type": "code",
            "source": [
                "INSERT INTO VideoCharges(video_charge_id, video_invoice, charge_type, charge_fee, customer, charge_date, tax, paid_status)\n",
                "VALUES\n",
                "('3VSOIHbsaCSZc', 'JIOFJOI4123FD', 1, '4.99', 'L56ZMK77JJ', '03/07/2020', null, 0),\n",
                "('ldSTSNK861yfL', 'uhHUHI83LJOIF', 0, '15.99', 'BHDWB3OC9S', '02/28/2021', '6.99', 1),\n",
                "('lbif9312kbfe3', 'nfININD321765', 2, '20.99', 'KJSM4Q3BNY', '07/25/2020', '5.99', 0),\n",
                "('HBLIBAF420804', 'HIfewabo07843', 2, '20.99', 'LZL160YHEA', '08/26/2020', '5.99', 1),\n",
                "('knIOHnlkfaIJ0', 'Klao0O21Nnhsa', 1, '4.99', '342QB52XB6', '03/07/2020', null, 1);\n",
                "-- charge type:  'Damage - 0, 'Failure to Rewind - 1, Failure to Return 2\n",
                "INSERT INTO DVDCharges(dvd_charge_id, dvd_invoice, charge_type, charge_fee, customer, charge_date, tax, paid_status)\n",
                "VALUES\n",
                "('pnlbnOUBBJKNS', (SELECT dvd_invoice_id FROM DVDInvoices WHERE dvd_invoice_id='LXasE2BN04543'), 0, '15.99', (SELECT customer_id FROM Customers WHERE customer_id='3ER91F9TZ7'), '09/28/2019', null, 0),\n",
                "INSERT INTO VideoInvoices(video_invoice_id, customer, video, rented_on, return_status, returned_on)\n",
                "VALUES\n",
                "('nfININD321765', (SELECT customer_id FROM Customers WHERE customer_id='KJSM4Q3BNY'), (SELECT video_id FROM Videos WHERE movie = @InfinityWar and price = (SELECT MIN(price) FROM Videos WHERE movie = @InfinityWar)), '06/24/2020 4:45PM', 0,  null),\n",
                "('Klao0O21Nnhsa', (SELECT customer_id FROM Customers WHERE customer_id='342QB52XB6'), (SELECT video_id FROM Videos WHERE movie = @GetOut and price = (SELECT MIN(price) FROM Videos WHERE movie = @GetOut)), '11/28/2020 4:45PM', 1,  '12/01/2021 6:27PM'),\n",
                "('fewa90sdlb324', (SELECT customer_id FROM Customers WHERE customer_id='KG0TVUDHFM'), (SELECT video_id FROM Videos WHERE movie = @GetOut and price = (SELECT MIN(price) FROM Videos WHERE movie = @GetOut)), '04/14/2020 4:45PM', 1,  '04/23/2020 4:58PM'),\n",
                "('HIfewabo07843', (SELECT customer_id FROM Customers WHERE customer_id='LZL160YHEA'), (SELECT video_id FROM Videos WHERE movie = @InfinityWar and price = (SELECT MIN(price) FROM Videos WHERE movie = @InfinityWar)), '07/25/2020 4:45PM', 0,  null),\n",
                "('JIOFJOI4123FD', (SELECT customer_id FROM Customers WHERE customer_id='L56ZMK77JJ'), (SELECT video_id FROM Videos WHERE movie = @Argo and price = (SELECT MIN(price) FROM Videos WHERE movie = @Argo)), '03/05/2020 3:22PM', 1, '03/07/2020 12:34PM'),\n",
                "('uhHUHI83LJOIF', (SELECT customer_id FROM Customers WHERE customer_id='BHDWB3OC9S'), (SELECT video_id FROM Videos WHERE movie = @GetOut and price = (SELECT MIN(price) FROM Videos WHERE movie = @GetOut)), '02/25/2021 2:47PM', 1,  '02/28/2021 4:07PM'),\n",
                "('HIF8FEWL2HNDA', (SELECT customer_id FROM Customers WHERE customer_id='QU5OQ64KWK'), (SELECT video_id FROM Videos WHERE movie = @InfinityWar and price = (SELECT MIN(price) FROM Videos WHERE movie = @InfinityWar)), '04/05/2021 4:45PM', 1,  '04/07/2021 11:05AM');\n",
                "INSERT INTO VideoInvoices(video_invoice_id, customer, video, rented_on, return_status, returned_on)\n",
                "VALUES\n",
                "('nfININD321765', (SELECT customer_id FROM Customers WHERE customer_id='KJSM4Q3BNY'), (SELECT video_id FROM Videos WHERE movie = @InfinityWar and price = (SELECT MIN(price) FROM Videos WHERE movie = @InfinityWar)), '06/24/2020 4:45PM', 0,  null),\n",
                "('Klao0O21Nnhsa', (SELECT customer_id FROM Customers WHERE customer_id='342QB52XB6'), (SELECT video_id FROM Videos WHERE movie = @GetOut and price = (SELECT MIN(price) FROM Videos WHERE movie = @GetOut)), '11/28/2020 4:45PM', 1,  '12/01/2021 6:27PM'),\n",
                "('fewa90sdlb324', (SELECT customer_id FROM Customers WHERE customer_id='KG0TVUDHFM'), (SELECT video_id FROM Videos WHERE movie = @GetOut and price = (SELECT MIN(price) FROM Videos WHERE movie = @GetOut)), '04/14/2020 4:45PM', 1,  '04/23/2020 4:58PM'),\n",
                "('HIfewabo07843', (SELECT customer_id FROM Customers WHERE customer_id='LZL160YHEA'), (SELECT video_id FROM Videos WHERE movie = @InfinityWar and price = (SELECT MIN(price) FROM Videos WHERE movie = @InfinityWar)), '07/25/2020 4:45PM', 0,  null),\n",
                "('JIOFJOI4123FD', (SELECT customer_id FROM Customers WHERE customer_id='L56ZMK77JJ'), (SELECT video_id FROM Videos WHERE movie = @Argo and price = (SELECT MIN(price) FROM Videos WHERE movie = @Argo)), '03/05/2020 3:22PM', 1, '03/07/2020 12:34PM'),\n",
                "('uhHUHI83LJOIF', (SELECT customer_id FROM Customers WHERE customer_id='BHDWB3OC9S'), (SELECT video_id FROM Videos WHERE movie = @GetOut and price = (SELECT MIN(price) FROM Videos WHERE movie = @GetOut)), '02/25/2021 2:47PM', 1,  '02/28/2021 4:07PM'),\n",
                "('HIF8FEWL2HNDA', (SELECT customer_id FROM Customers WHERE customer_id='QU5OQ64KWK'), (SELECT video_id FROM Videos WHERE movie = @InfinityWar and price = (SELECT MIN(price) FROM Videos WHERE movie = @InfinityWar)), '04/05/2021 4:45PM', 1,  '04/07/2021 11:05AM');\n",
                "('n3PJOPOINFAFE', (SELECT dvd_invoice_id FROM DVDInvoices WHERE dvd_invoice_id='4932u90843fsS'), 0, '15.99', (SELECT customer_id FROM Customers WHERE customer_id='BHDWB3OC9S'), '04/28/2020', '8.99', 1),\n",
                "('biubOINANKDLA', (SELECT dvd_invoice_id FROM DVDInvoices WHERE dvd_invoice_id='obgare943523g'), 2, '25.99', (SELECT customer_id FROM Customers WHERE customer_id='2267Y1N1D5'), '03/14/2020', '5.99', 1),\n",
                "('808893okjhUHU', (SELECT dvd_invoice_id FROM DVDInvoices WHERE dvd_invoice_id='ks34231N4DSAS'), 0, '15.99', (SELECT customer_id FROM Customers WHERE customer_id='NSOAVFDPRR'), '02/08/2019', '8.99', 1),\n",
                "('209OJxlmcCDAS', (SELECT dvd_invoice_id FROM DVDInvoices WHERE dvd_invoice_id='8439808432GSF'), 2, '25.99', (SELECT customer_id FROM Customers WHERE customer_id='75W4OKI1P2'), '01/18/2020', '5.99', 1);DECLARE @InfinityWar AS VARCHAR(15) = (SELECT movie_id FROM Movies WHERE title='Avengers: Infinity War');\n",
                "DECLARE @Argo AS VARCHAR(15) = (SELECT movie_id FROM Movies WHERE title='Argo'); \n",
                "DECLARE @GetOut AS VARCHAR(15) = (SELECT movie_id FROM Movies WHERE title='Get Out'); \n",
                "DECLARE @WolfOnWallSt AS VARCHAR(15) = (SELECT movie_id FROM Movies WHERE title='The Wolf on Wall Street'); \n",
                "DECLARE @Us AS VARCHAR(15) = (SELECT movie_id FROM Movies WHERE title='Us'); \n",
                "DECLARE @Parasite AS VARCHAR(15) = (SELECT movie_id FROM Movies WHERE title='Parasite'); \n",
                "DECLARE @12Years AS VARCHAR(15) = (SELECT movie_id FROM Movies WHERE title='12 Years A Slave'); \n",
                "DECLARE @ToyStory4 AS VARCHAR(15) = (SELECT movie_id FROM Movies WHERE title='Toy Story 4'); \n",
                "DECLARE @GoneGirl AS VARCHAR(15) = (SELECT movie_id FROM Movies WHERE title='Gone Girl'); \n",
                "-- charge type:  'Damage - 0, 'Failure to Rewind - 1, Failure to Return 2\n",
                "INSERT INTO VideoCharges(video_charge_id, video_invoice, charge_type, charge_fee, customer, charge_date, tax, paid_status)\n",
                "VALUES\n",
                "('3VSOIHbsaCSZc', 'JIOFJOI4123FD', 1, '4.99', 'L56ZMK77JJ', '03/07/2020', null, 0),\n",
                "('ldSTSNK861yfL', 'uhHUHI83LJOIF', 0, '15.99', 'BHDWB3OC9S', '02/28/2021', '6.99', 1),\n",
                "('lbif9312kbfe3', 'nfININD321765', 2, '20.99', 'KJSM4Q3BNY', '07/25/2020', '5.99', 0),\n",
                "('HBLIBAF420804', 'HIfewabo07843', 2, '20.99', 'LZL160YHEA', '08/26/2020', '5.99', 1),\n",
                "('knIOHnlkfaIJ0', 'Klao0O21Nnhsa', 1, '4.99', '342QB52XB6', '03/07/2020', null, 1);\n",
                "-- charge type:  'Damage - 0, 'Failure to Rewind - 1, Failure to Return 2\n",
                "INSERT INTO DVDCharges(dvd_charge_id, dvd_invoice, charge_type, charge_fee, customer, charge_date, tax, paid_status)\n",
                "VALUES\n",
                "('pnlbnOUBBJKNS', (SELECT dvd_invoice_id FROM DVDInvoices WHERE dvd_invoice_id='LXasE2BN04543'), 0, '15.99', (SELECT customer_id FROM Customers WHERE customer_id='3ER91F9TZ7'), '09/28/2019', null, 0),\n",
                "('n3PJOPOINFAFE', (SELECT dvd_invoice_id FROM DVDInvoices WHERE dvd_invoice_id='4932u90843fsS'), 0, '15.99', (SELECT customer_id FROM Customers WHERE customer_id='BHDWB3OC9S'), '04/28/2020', '8.99', 1),\n",
                "('biubOINANKDLA', (SELECT dvd_invoice_id FROM DVDInvoices WHERE dvd_invoice_id='obgare943523g'), 2, '25.99', (SELECT customer_id FROM Customers WHERE customer_id='2267Y1N1D5'), '03/14/2020', '5.99', 1),\n",
                "('808893okjhUHU', (SELECT dvd_invoice_id FROM DVDInvoices WHERE dvd_invoice_id='ks34231N4DSAS'), 0, '15.99', (SELECT customer_id FROM Customers WHERE customer_id='NSOAVFDPRR'), '02/08/2019', '8.99', 1),\n",
                "('209OJxlmcCDAS', (SELECT dvd_invoice_id FROM DVDInvoices WHERE dvd_invoice_id='8439808432GSF'), 2, '25.99', (SELECT customer_id FROM Customers WHERE customer_id='75W4OKI1P2'), '01/18/2020', '5.99', 1);\n",
                "\n",
                ""
            ],
            "metadata": {
                "azdata_cell_guid": "845d605a-934a-4baa-b272-129c76489075",
                "tags": []
            },
            "outputs": [],
            "execution_count": null
        },
        {
            "cell_type": "markdown",
            "source": [
                "# Queries"
            ],
            "metadata": {
                "azdata_cell_guid": "13667445-b537-4e4d-8ad6-8b1a0cdc8506"
            }
        },
        {
            "cell_type": "code",
            "source": [
                "DECLARE @InfinityWar AS VARCHAR(15) = (SELECT movie_id FROM Movies WHERE title='Avengers: Infinity War'); \r\n",
                "DECLARE @ToyStory4 AS VARCHAR(15) = (SELECT movie_id FROM Movies WHERE title='Toy Story 4'); \r\n",
                "DECLARE @Parasite AS VARCHAR(15) = (SELECT movie_id FROM Movies WHERE title='Parasite'); \r\n",
                "DECLARE @WolfWallSt AS VARCHAR(15) = (SELECT movie_id FROM Movies WHERE title='The Wolf on Wall Street'); \r\n",
                "DECLARE @Ma AS VARCHAR(15) = (SELECT movie_id FROM Movies WHERE title='Ma'); \r\n",
                "DECLARE @GoneGirl AS VARCHAR(15) = (SELECT movie_id FROM Movies WHERE title='Gone Girl'); \r\n",
                "DECLARE @12Years AS VARCHAR(15) = (SELECT movie_id FROM Movies WHERE title='12 Years a Slave'); \r\n",
                "DECLARE @Argo AS VARCHAR(15) = (SELECT movie_id FROM Movies WHERE title='Argo'); \r\n",
                "\r\n",
                "\r\n",
                "SELECT DISTINCT m.title as Title, m.rating as Rating, d.genre as Genre,  m.release_year as 'Release Year'\r\n",
                "FROM Movies m\r\n",
                "INNER JOIN DVDs d\r\n",
                "ON m.movie_id = d.movie\r\n",
                "ORDER BY m.title;"
            ],
            "metadata": {
                "azdata_cell_guid": "e472455c-d48a-405c-87e9-e183dca20594",
                "tags": [
                    "hide_input"
                ]
            },
            "outputs": [],
            "execution_count": null
        },
        {
            "cell_type": "markdown",
            "source": [
                "## Searching for Movies that star Actresses/Actors via Castmate Name"
            ],
            "metadata": {
                "azdata_cell_guid": "52691396-6a8c-4550-b762-2b7f7b6252bb"
            }
        },
        {
            "cell_type": "code",
            "source": [
                "DECLARE @RobertDowneyJr AS VARCHAR(15) = (SELECT castmate_id FROM Castmates WHERE full_name='Robert Downey Jr.'); \r\n",
                "DECLARE @LeonardoDiCaprio AS VARCHAR(15) = (SELECT castmate_id FROM Castmates WHERE full_name='Leonardo DiCaprio');\r\n",
                "DECLARE @LupitaNyongo AS VARCHAR(15) = (SELECT castmate_id FROM Castmates WHERE full_name='Lupita Nyoung''o'); \r\n",
                "\r\n",
                "-- Robert Downey Jr. \r\n",
                "SELECT m.title as Title, i.character_name as Character\r\n",
                "FROM Movies as m --Select title of Movie\r\n",
                "INNER JOIN Involvements i\r\n",
                "ON m.movie_id = i.movie AND i.castmate = @RobertDowneyJr\r\n",
                "\r\n",
                "-- Leonardo DiCaprio\r\n",
                "SELECT m.title as Title, i.character_name as Character\r\n",
                "FROM Movies as m --Select title of Movie\r\n",
                "INNER JOIN Involvements i\r\n",
                "ON m.movie_id = i.movie AND i.castmate = @LeonardoDiCaprio\r\n",
                "\r\n",
                "-- Lupita Nyong'o\r\n",
                "SELECT m.title as Title, i.character_name as Character\r\n",
                "FROM Movies as m --Select title of Movie\r\n",
                "INNER JOIN Involvements i\r\n",
                "ON m.movie_id = i.movie AND i.castmate = @LupitaNyongo; \r\n",
                ""
            ],
            "metadata": {
                "azdata_cell_guid": "e33dc791-9ea0-4593-8f02-cde58823436c",
                "tags": [
                    "hide_input"
                ]
            },
            "outputs": [],
            "execution_count": null
        },
        {
            "cell_type": "markdown",
            "source": [
                "## Searching for Movies that star Directors via Castmate Name"
            ],
            "metadata": {
                "azdata_cell_guid": "26c24010-e3c6-4a1a-82a6-21119314129f"
            }
        },
        {
            "cell_type": "code",
            "source": [
                "-- Tyler Perry\r\n",
                "DECLARE @TylerPerry AS VARCHAR(15) = (SELECT castmate_id FROM Castmates WHERE full_name='Tyler Perry'); --Declare the Castmate as a variable\r\n",
                "SELECT title as Title FROM Movies --Select title of Movie\r\n",
                "WHERE movie_id IN (SELECT movie FROM Involvements WHERE castmate=@TylerPerry AND castmate_type='director'); -- Return the Involvement movie value for Tyler Perry\r\n",
                "\r\n",
                "-- Ben Affleck\r\n",
                "DECLARE @BenAffleck AS VARCHAR(15) = (SELECT castmate_id FROM Castmates WHERE full_name='Ben Affleck'); --Declare the Castmate as a variable\r\n",
                "SELECT title as Title FROM Movies --Select title of Movie\r\n",
                "WHERE movie_id IN (SELECT movie FROM Involvements WHERE castmate=@BenAffleck AND castmate_type='director'); -- Return the Involvement movie value for Ben Affleck\r\n",
                "\r\n",
                "-- Jordan Peele \r\n",
                "DECLARE @JordanPeele AS VARCHAR(15) = (SELECT castmate_id FROM Castmates WHERE full_name='Jordan Peele'); --Declare the Castmate as a variable\r\n",
                "SELECT title as Title FROM Movies --Select title of Movie\r\n",
                "WHERE movie_id IN (SELECT movie FROM Involvements WHERE castmate=@JordanPeele AND castmate_type='director'); -- Return the Involvement movie value for Jordan Peele\r\n",
                ""
            ],
            "metadata": {
                "azdata_cell_guid": "73e849dd-8648-48f8-9eda-c5e3f5f6b832",
                "tags": [
                    "hide_input"
                ]
            },
            "outputs": [],
            "execution_count": null
        },
        {
            "cell_type": "markdown",
            "source": [
                "## Searching the Cast of Movies"
            ],
            "metadata": {
                "azdata_cell_guid": "62c59f94-717b-4b66-b6d1-78512b8ce22d"
            }
        },
        {
            "cell_type": "code",
            "source": [
                "-- Avengers: Infinity War\r\n",
                "DECLARE @InfinityWar AS VARCHAR(15) = (SELECT movie_id FROM Movies WHERE title='Avengers: Infinity War'); -- Movie Variable\r\n",
                "\r\n",
                "SELECT c.full_name as Cast, i.castmate_type as Type, ISNULL(i.character_name, 'N/A') AS Character -- Show Cast's full name, type, and character name if applicable\r\n",
                "FROM Involvements i\r\n",
                "INNER JOIN Castmates c\r\n",
                "ON i.castmate = c.castmate_id\r\n",
                "WHERE movie=@InfinityWar; -- search for Infinity War\r\n",
                "\r\n",
                "-- Parasite\r\n",
                "DECLARE @Parasite AS VARCHAR(15) = (SELECT movie_id FROM Movies WHERE title='Parasite'); --Declare the Castmate as a variable\r\n",
                "\r\n",
                "SELECT c.full_name as Cast, i.castmate_type as Type, ISNULL(i.character_name, 'N/A') AS Character -- Show Cast's full name, type, and character name if applicable\r\n",
                "FROM Involvements i\r\n",
                "INNER JOIN Castmates c\r\n",
                "ON i.castmate = c.castmate_id\r\n",
                "WHERE movie=@Parasite;\r\n",
                "\r\n",
                "-- Toy Story 4\r\n",
                "DECLARE @ToyStory4 AS VARCHAR(15) = (SELECT movie_id FROM Movies WHERE title='Toy Story 4'); --Declare the Castmate as a variable\r\n",
                "\r\n",
                "SELECT c.full_name as Cast, i.castmate_type as Type, ISNULL(i.character_name, 'N/A') AS Character -- Show Cast's full name, type, and character name if applicable\r\n",
                "FROM Involvements i\r\n",
                "INNER JOIN Castmates c\r\n",
                "ON i.castmate = c.castmate_id\r\n",
                "WHERE movie=@ToyStory4;"
            ],
            "metadata": {
                "azdata_cell_guid": "bdd752ca-e055-4d64-a381-74988aab73f6",
                "tags": [
                    "hide_input"
                ]
            },
            "outputs": [],
            "execution_count": null
        },
        {
            "cell_type": "markdown",
            "source": [
                "## Displaying Movies with Academy Awards and Awardees"
            ],
            "metadata": {
                "azdata_cell_guid": "3fdc93c6-de5a-4bdd-8736-f1cb90e321ca"
            }
        },
        {
            "cell_type": "code",
            "source": [
                "SELECT * FROM Awards"
            ],
            "metadata": {
                "azdata_cell_guid": "853c03f2-4770-4f83-80d2-7b9e78375b11"
            },
            "outputs": [
{
    "output_type": "display_data",
    "data": {
        "text/html": "(33 rows affected)"
    },
    "metadata": {}
}, {
    "output_type": "display_data",
    "data": {
        "text/html": "Total execution time: 00:00:00.170"
    },
    "metadata": {}
}, {
    "output_type": "execute_result",
    "metadata": {},
    "execution_count": 5,
    "data": {
        "application/vnd.dataresource+json": {
            "schema": {
                "fields": [
                    {
                        "name": "award_name"
                    },
                    {
                        "name": "movie"
                    },
                    {
                        "name": "castmate"
                    },
                    {
                        "name": "year"
                    }
                ]
            },
            "data": [
                {
                    "0": "Best Motion Picture of the Year",
                    "1": "NX16Y8A736",
                    "2": "UGI0VSRUOX",
                    "3": "2013"
                },
                {
                    "0": "Best Adapted Screenplay of the Year",
                    "1": "NX16Y8A736",
                    "2": "NULL",
                    "3": "2013"
                },
                {
                    "0": "Best Film Editing of the Year",
                    "1": "NX16Y8A736",
                    "2": "NULL",
                    "3": "2013"
                },
                {
                    "0": "Best Animated Feature of the Year",
                    "1": "EKA52BBRAT",
                    "2": "NULL",
                    "3": "2020"
                },
                {
                    "0": "Best Motion Picture of the Year",
                    "1": "E542HUYXFP",
                    "2": "S9YC7O8ZLN",
                    "3": "2014"
                },
                {
                    "0": "Best Motion Picture of the Year",
                    "1": "E542HUYXFP",
                    "2": "828ZXEA8WC",
                    "3": "2014"
                },
                {
                    "0": "Best Supporting Actress",
                    "1": "E542HUYXFP",
                    "2": "3P8B5RTU99",
                    "3": "2014"
                },
                {
                    "0": "Best Motion Picture of the Year",
                    "1": "1GI1MHOO2B",
                    "2": "FMPV7EVXAS",
                    "3": "2020"
                },
                {
                    "0": "Best Director of the Year",
                    "1": "1GI1MHOO2B",
                    "2": "FMPV7EVXAS",
                    "3": "2020"
                },
                {
                    "0": "Best International Feature Film of the Year",
                    "1": "1GI1MHOO2B",
                    "2": "NULL",
                    "3": "2020"
                },
                {
                    "0": "Best Original Screenplay of the Year",
                    "1": "1GI1MHOO2B",
                    "2": "FMPV7EVXAS",
                    "3": "2020"
                },
                {
                    "0": "Best Motion Picture of the Year",
                    "1": "NX16Y8A736",
                    "2": "UGI0VSRUOX",
                    "3": "2013"
                },
                {
                    "0": "Best Adapted Screenplay of the Year",
                    "1": "NX16Y8A736",
                    "2": "NULL",
                    "3": "2013"
                },
                {
                    "0": "Best Film Editing of the Year",
                    "1": "NX16Y8A736",
                    "2": "NULL",
                    "3": "2013"
                },
                {
                    "0": "Best Animated Feature of the Year",
                    "1": "EKA52BBRAT",
                    "2": "NULL",
                    "3": "2020"
                },
                {
                    "0": "Best Motion Picture of the Year",
                    "1": "E542HUYXFP",
                    "2": "S9YC7O8ZLN",
                    "3": "2014"
                },
                {
                    "0": "Best Motion Picture of the Year",
                    "1": "E542HUYXFP",
                    "2": "828ZXEA8WC",
                    "3": "2014"
                },
                {
                    "0": "Best Supporting Actress",
                    "1": "E542HUYXFP",
                    "2": "3P8B5RTU99",
                    "3": "2014"
                },
                {
                    "0": "Best Motion Picture of the Year",
                    "1": "1GI1MHOO2B",
                    "2": "FMPV7EVXAS",
                    "3": "2020"
                },
                {
                    "0": "Best Director of the Year",
                    "1": "1GI1MHOO2B",
                    "2": "FMPV7EVXAS",
                    "3": "2020"
                },
                {
                    "0": "Best International Feature Film of the Year",
                    "1": "1GI1MHOO2B",
                    "2": "NULL",
                    "3": "2020"
                },
                {
                    "0": "Best Original Screenplay of the Year",
                    "1": "1GI1MHOO2B",
                    "2": "FMPV7EVXAS",
                    "3": "2020"
                },
                {
                    "0": "Best Motion Picture of the Year",
                    "1": "NX16Y8A736",
                    "2": "UGI0VSRUOX",
                    "3": "2013"
                },
                {
                    "0": "Best Adapted Screenplay of the Year",
                    "1": "NX16Y8A736",
                    "2": "NULL",
                    "3": "2013"
                },
                {
                    "0": "Best Film Editing of the Year",
                    "1": "NX16Y8A736",
                    "2": "NULL",
                    "3": "2013"
                },
                {
                    "0": "Best Animated Feature of the Year",
                    "1": "EKA52BBRAT",
                    "2": "NULL",
                    "3": "2020"
                },
                {
                    "0": "Best Motion Picture of the Year",
                    "1": "E542HUYXFP",
                    "2": "S9YC7O8ZLN",
                    "3": "2014"
                },
                {
                    "0": "Best Motion Picture of the Year",
                    "1": "E542HUYXFP",
                    "2": "828ZXEA8WC",
                    "3": "2014"
                },
                {
                    "0": "Best Supporting Actress",
                    "1": "E542HUYXFP",
                    "2": "3P8B5RTU99",
                    "3": "2014"
                },
                {
                    "0": "Best Motion Picture of the Year",
                    "1": "1GI1MHOO2B",
                    "2": "FMPV7EVXAS",
                    "3": "2020"
                },
                {
                    "0": "Best Director of the Year",
                    "1": "1GI1MHOO2B",
                    "2": "FMPV7EVXAS",
                    "3": "2020"
                },
                {
                    "0": "Best International Feature Film of the Year",
                    "1": "1GI1MHOO2B",
                    "2": "NULL",
                    "3": "2020"
                },
                {
                    "0": "Best Original Screenplay of the Year",
                    "1": "1GI1MHOO2B",
                    "2": "FMPV7EVXAS",
                    "3": "2020"
                }
            ]
        },
        "text/html": [
            "<table>",
            "<tr><th>award_name</th><th>movie</th><th>castmate</th><th>year</th></tr>",
            "<tr><td>Best Motion Picture of the Year</td><td>NX16Y8A736</td><td>UGI0VSRUOX</td><td>2013</td></tr>",
            "<tr><td>Best Adapted Screenplay of the Year</td><td>NX16Y8A736</td><td>NULL</td><td>2013</td></tr>",
            "<tr><td>Best Film Editing of the Year</td><td>NX16Y8A736</td><td>NULL</td><td>2013</td></tr>",
            "<tr><td>Best Animated Feature of the Year</td><td>EKA52BBRAT</td><td>NULL</td><td>2020</td></tr>",
            "<tr><td>Best Motion Picture of the Year</td><td>E542HUYXFP</td><td>S9YC7O8ZLN</td><td>2014</td></tr>",
            "<tr><td>Best Motion Picture of the Year</td><td>E542HUYXFP</td><td>828ZXEA8WC</td><td>2014</td></tr>",
            "<tr><td>Best Supporting Actress</td><td>E542HUYXFP</td><td>3P8B5RTU99</td><td>2014</td></tr>",
            "<tr><td>Best Motion Picture of the Year</td><td>1GI1MHOO2B</td><td>FMPV7EVXAS</td><td>2020</td></tr>",
            "<tr><td>Best Director of the Year</td><td>1GI1MHOO2B</td><td>FMPV7EVXAS</td><td>2020</td></tr>",
            "<tr><td>Best International Feature Film of the Year</td><td>1GI1MHOO2B</td><td>NULL</td><td>2020</td></tr>",
            "<tr><td>Best Original Screenplay of the Year</td><td>1GI1MHOO2B</td><td>FMPV7EVXAS</td><td>2020</td></tr>",
            "<tr><td>Best Motion Picture of the Year</td><td>NX16Y8A736</td><td>UGI0VSRUOX</td><td>2013</td></tr>",
            "<tr><td>Best Adapted Screenplay of the Year</td><td>NX16Y8A736</td><td>NULL</td><td>2013</td></tr>",
            "<tr><td>Best Film Editing of the Year</td><td>NX16Y8A736</td><td>NULL</td><td>2013</td></tr>",
            "<tr><td>Best Animated Feature of the Year</td><td>EKA52BBRAT</td><td>NULL</td><td>2020</td></tr>",
            "<tr><td>Best Motion Picture of the Year</td><td>E542HUYXFP</td><td>S9YC7O8ZLN</td><td>2014</td></tr>",
            "<tr><td>Best Motion Picture of the Year</td><td>E542HUYXFP</td><td>828ZXEA8WC</td><td>2014</td></tr>",
            "<tr><td>Best Supporting Actress</td><td>E542HUYXFP</td><td>3P8B5RTU99</td><td>2014</td></tr>",
            "<tr><td>Best Motion Picture of the Year</td><td>1GI1MHOO2B</td><td>FMPV7EVXAS</td><td>2020</td></tr>",
            "<tr><td>Best Director of the Year</td><td>1GI1MHOO2B</td><td>FMPV7EVXAS</td><td>2020</td></tr>",
            "<tr><td>Best International Feature Film of the Year</td><td>1GI1MHOO2B</td><td>NULL</td><td>2020</td></tr>",
            "<tr><td>Best Original Screenplay of the Year</td><td>1GI1MHOO2B</td><td>FMPV7EVXAS</td><td>2020</td></tr>",
            "<tr><td>Best Motion Picture of the Year</td><td>NX16Y8A736</td><td>UGI0VSRUOX</td><td>2013</td></tr>",
            "<tr><td>Best Adapted Screenplay of the Year</td><td>NX16Y8A736</td><td>NULL</td><td>2013</td></tr>",
            "<tr><td>Best Film Editing of the Year</td><td>NX16Y8A736</td><td>NULL</td><td>2013</td></tr>",
            "<tr><td>Best Animated Feature of the Year</td><td>EKA52BBRAT</td><td>NULL</td><td>2020</td></tr>",
            "<tr><td>Best Motion Picture of the Year</td><td>E542HUYXFP</td><td>S9YC7O8ZLN</td><td>2014</td></tr>",
            "<tr><td>Best Motion Picture of the Year</td><td>E542HUYXFP</td><td>828ZXEA8WC</td><td>2014</td></tr>",
            "<tr><td>Best Supporting Actress</td><td>E542HUYXFP</td><td>3P8B5RTU99</td><td>2014</td></tr>",
            "<tr><td>Best Motion Picture of the Year</td><td>1GI1MHOO2B</td><td>FMPV7EVXAS</td><td>2020</td></tr>",
            "<tr><td>Best Director of the Year</td><td>1GI1MHOO2B</td><td>FMPV7EVXAS</td><td>2020</td></tr>",
            "<tr><td>Best International Feature Film of the Year</td><td>1GI1MHOO2B</td><td>NULL</td><td>2020</td></tr>",
            "<tr><td>Best Original Screenplay of the Year</td><td>1GI1MHOO2B</td><td>FMPV7EVXAS</td><td>2020</td></tr>",
            "</table>"
        ]
    }
}
],
            "execution_count": 5
        },
        {
            "cell_type": "code",
            "source": [
                "SELECT a.award_name as Award, m.title as Title, c.full_name as Awardee, a.year as Year\r\n",
                "FROM ((Awards a\r\n",
                "INNER JOIN Movies m\r\n",
                "ON a.movie = m.movie_id)\r\n",
                "INNER JOIN Castmates c \r\n",
                "ON a.castmate = c.castmate_id);"
            ],
            "metadata": {
                "azdata_cell_guid": "c0070937-de77-4011-993d-2dbfdad033dc",
                "tags": []
            },
            "outputs": [
                {
                    "output_type": "display_data",
                    "data": {
                        "text/html": "(21 rows affected)"
                    },
                    "metadata": {}
                },
                {
                    "output_type": "display_data",
                    "data": {
                        "text/html": "Total execution time: 00:00:02.529"
                    },
                    "metadata": {}
                },
                {
                    "output_type": "execute_result",
                    "metadata": {},
                    "execution_count": 4,
                    "data": {
                        "application/vnd.dataresource+json": {
                            "schema": {
                                "fields": [
                                    {
                                        "name": "Award"
                                    },
                                    {
                                        "name": "Title"
                                    },
                                    {
                                        "name": "Awardee"
                                    },
                                    {
                                        "name": "Year"
                                    }
                                ]
                            },
                            "data": [
                                {
                                    "0": "Best Motion Picture of the Year",
                                    "1": "Argo",
                                    "2": "Ben Affleck",
                                    "3": "2013"
                                },
                                {
                                    "0": "Best Motion Picture of the Year",
                                    "1": "12 Years a Slave",
                                    "2": "Brad Pitt",
                                    "3": "2014"
                                },
                                {
                                    "0": "Best Motion Picture of the Year",
                                    "1": "12 Years a Slave",
                                    "2": "Steve McQueen",
                                    "3": "2014"
                                },
                                {
                                    "0": "Best Supporting Actress",
                                    "1": "12 Years a Slave",
                                    "2": "Lupita Nyong'o",
                                    "3": "2014"
                                },
                                {
                                    "0": "Best Motion Picture of the Year",
                                    "1": "Parasite",
                                    "2": "Bong Joon-ho",
                                    "3": "2020"
                                },
                                {
                                    "0": "Best Director of the Year",
                                    "1": "Parasite",
                                    "2": "Bong Joon-ho",
                                    "3": "2020"
                                },
                                {
                                    "0": "Best Original Screenplay of the Year",
                                    "1": "Parasite",
                                    "2": "Bong Joon-ho",
                                    "3": "2020"
                                },
                                {
                                    "0": "Best Motion Picture of the Year",
                                    "1": "Argo",
                                    "2": "Ben Affleck",
                                    "3": "2013"
                                },
                                {
                                    "0": "Best Motion Picture of the Year",
                                    "1": "12 Years a Slave",
                                    "2": "Brad Pitt",
                                    "3": "2014"
                                },
                                {
                                    "0": "Best Motion Picture of the Year",
                                    "1": "12 Years a Slave",
                                    "2": "Steve McQueen",
                                    "3": "2014"
                                },
                                {
                                    "0": "Best Supporting Actress",
                                    "1": "12 Years a Slave",
                                    "2": "Lupita Nyong'o",
                                    "3": "2014"
                                },
                                {
                                    "0": "Best Motion Picture of the Year",
                                    "1": "Parasite",
                                    "2": "Bong Joon-ho",
                                    "3": "2020"
                                },
                                {
                                    "0": "Best Director of the Year",
                                    "1": "Parasite",
                                    "2": "Bong Joon-ho",
                                    "3": "2020"
                                },
                                {
                                    "0": "Best Original Screenplay of the Year",
                                    "1": "Parasite",
                                    "2": "Bong Joon-ho",
                                    "3": "2020"
                                },
                                {
                                    "0": "Best Motion Picture of the Year",
                                    "1": "Argo",
                                    "2": "Ben Affleck",
                                    "3": "2013"
                                },
                                {
                                    "0": "Best Motion Picture of the Year",
                                    "1": "12 Years a Slave",
                                    "2": "Brad Pitt",
                                    "3": "2014"
                                },
                                {
                                    "0": "Best Motion Picture of the Year",
                                    "1": "12 Years a Slave",
                                    "2": "Steve McQueen",
                                    "3": "2014"
                                },
                                {
                                    "0": "Best Supporting Actress",
                                    "1": "12 Years a Slave",
                                    "2": "Lupita Nyong'o",
                                    "3": "2014"
                                },
                                {
                                    "0": "Best Motion Picture of the Year",
                                    "1": "Parasite",
                                    "2": "Bong Joon-ho",
                                    "3": "2020"
                                },
                                {
                                    "0": "Best Director of the Year",
                                    "1": "Parasite",
                                    "2": "Bong Joon-ho",
                                    "3": "2020"
                                },
                                {
                                    "0": "Best Original Screenplay of the Year",
                                    "1": "Parasite",
                                    "2": "Bong Joon-ho",
                                    "3": "2020"
                                }
                            ]
                        },
                        "text/html": [
                            "<table>",
                            "<tr><th>Award</th><th>Title</th><th>Awardee</th><th>Year</th></tr>",
                            "<tr><td>Best Motion Picture of the Year</td><td>Argo</td><td>Ben Affleck</td><td>2013</td></tr>",
                            "<tr><td>Best Motion Picture of the Year</td><td>12 Years a Slave</td><td>Brad Pitt</td><td>2014</td></tr>",
                            "<tr><td>Best Motion Picture of the Year</td><td>12 Years a Slave</td><td>Steve McQueen</td><td>2014</td></tr>",
                            "<tr><td>Best Supporting Actress</td><td>12 Years a Slave</td><td>Lupita Nyong'o</td><td>2014</td></tr>",
                            "<tr><td>Best Motion Picture of the Year</td><td>Parasite</td><td>Bong Joon-ho</td><td>2020</td></tr>",
                            "<tr><td>Best Director of the Year</td><td>Parasite</td><td>Bong Joon-ho</td><td>2020</td></tr>",
                            "<tr><td>Best Original Screenplay of the Year</td><td>Parasite</td><td>Bong Joon-ho</td><td>2020</td></tr>",
                            "<tr><td>Best Motion Picture of the Year</td><td>Argo</td><td>Ben Affleck</td><td>2013</td></tr>",
                            "<tr><td>Best Motion Picture of the Year</td><td>12 Years a Slave</td><td>Brad Pitt</td><td>2014</td></tr>",
                            "<tr><td>Best Motion Picture of the Year</td><td>12 Years a Slave</td><td>Steve McQueen</td><td>2014</td></tr>",
                            "<tr><td>Best Supporting Actress</td><td>12 Years a Slave</td><td>Lupita Nyong'o</td><td>2014</td></tr>",
                            "<tr><td>Best Motion Picture of the Year</td><td>Parasite</td><td>Bong Joon-ho</td><td>2020</td></tr>",
                            "<tr><td>Best Director of the Year</td><td>Parasite</td><td>Bong Joon-ho</td><td>2020</td></tr>",
                            "<tr><td>Best Original Screenplay of the Year</td><td>Parasite</td><td>Bong Joon-ho</td><td>2020</td></tr>",
                            "<tr><td>Best Motion Picture of the Year</td><td>Argo</td><td>Ben Affleck</td><td>2013</td></tr>",
                            "<tr><td>Best Motion Picture of the Year</td><td>12 Years a Slave</td><td>Brad Pitt</td><td>2014</td></tr>",
                            "<tr><td>Best Motion Picture of the Year</td><td>12 Years a Slave</td><td>Steve McQueen</td><td>2014</td></tr>",
                            "<tr><td>Best Supporting Actress</td><td>12 Years a Slave</td><td>Lupita Nyong'o</td><td>2014</td></tr>",
                            "<tr><td>Best Motion Picture of the Year</td><td>Parasite</td><td>Bong Joon-ho</td><td>2020</td></tr>",
                            "<tr><td>Best Director of the Year</td><td>Parasite</td><td>Bong Joon-ho</td><td>2020</td></tr>",
                            "<tr><td>Best Original Screenplay of the Year</td><td>Parasite</td><td>Bong Joon-ho</td><td>2020</td></tr>",
                            "</table>"
                        ]
                    }
                }
            ],
            "execution_count": 4
        },
        {
            "cell_type": "code",
            "source": [
                "-- Joei wants to rent Get Out, Avengers: Infinity War, The Wolf on Wall Street. He wants to rent 'Get Out' in Video format, but wants to see both DVD and Video prices for 'The Wolf on Wall Street' and 'Avengers: Infinity War'\r\n",
                "\r\n",
                "DECLARE @WolfWallSt AS VARCHAR(15) = (SELECT movie_id FROM Movies WHERE title='The Wolf on Wall Street'); \r\n",
                "DECLARE @GetOut AS VARCHAR(15) = (SELECT movie_id FROM Movies WHERE title='Get Out'); \r\n",
                "DECLARE @InfinityWar AS VARCHAR(15) = (SELECT movie_id FROM Movies WHERE title='Avengers: Infinity War'); \r\n",
                "\r\n",
                "SELECT m.title as Title, FORMAT(v.price, 'C') as 'Video Price',  dis.company as 'Distributor'\r\n",
                "FROM ((Movies m\r\n",
                "INNER JOIN Videos v\r\n",
                "ON m.movie_id = v.movie)\r\n",
                "INNER JOIN Distributors dis\r\n",
                "ON v.distributor_sn = dis.distributor_id)\r\n",
                "WHERE m.movie_id IN (@GetOut, @InfinityWar, @WolfWallSt)\r\n",
                "ORDER BY m.title;\r\n",
                "\r\n",
                "SELECT m.title as Title, FORMAT(d.price, 'C') as 'DVD Price', dis.company as 'Distributor'\r\n",
                "FROM ((Movies m\r\n",
                "INNER JOIN DVDs d\r\n",
                "ON m.movie_id = d.movie)\r\n",
                "INNER JOIN Distributors dis\r\n",
                "ON d.distributor_sn = dis.distributor_id)\r\n",
                "WHERE m.movie_id IN (@InfinityWar, @WolfWallSt)\r\n",
                "ORDER BY m.title;\r\n",
                "\r\n",
                ""
            ],
            "metadata": {
                "azdata_cell_guid": "06a8fc1d-2fab-4803-b12b-075926fce1a1",
                "tags": [
                    "hide_input"
                ]
            },
            "outputs": [],
            "execution_count": null
        },
        {
            "cell_type": "code",
            "source": [
                "--Joei begins to checkout. He wants to cheapeast copies of Get Out and Avengers in DVD format and The Wolf on Wall Street in VIdeo.\r\n",
                "DECLARE @WolfWallSt AS VARCHAR(15) = (SELECT movie_id FROM Movies WHERE title='The Wolf on Wall Street'); \r\n",
                "DECLARE @GetOut AS VARCHAR(15) = (SELECT movie_id FROM Movies WHERE title='Get Out'); \r\n",
                "DECLARE @InfinityWar AS VARCHAR(15) = (SELECT movie_id FROM Movies WHERE title='Avengers: Infinity War'); \r\n",
                "DECLARE @ToyStory4 AS VARCHAR(15) = (SELECT movie_id FROM Movies WHERE title='Toy Story 4'); \r\n",
                "DECLARE @Argo AS VARCHAR(15) = (SELECT movie_id FROM Movies WHERE title='Argo'); \r\n",
                "DECLARE @Parasite AS VARCHAR(15) = (SELECT movie_id FROM Movies WHERE title='Parasite'); \r\n",
                "\r\n",
                "DECLARE @GetOutCHEAP AS VARCHAR(15) = (SELECT video_id FROM Videos WHERE movie = @GetOut and price = (SELECT MIN(price) FROM Videos WHERE movie = @GetOut));\r\n",
                "DECLARE @WallStCHEAP AS VARCHAR(15) = (SELECT video_id FROM Videos WHERE movie = @WolfWallSt and price = (SELECT MIN(price) FROM Videos WHERE movie = @WolfWallSt));\r\n",
                "DECLARE @InfinityWarCHEAP AS VARCHAR(15) = (SELECT dvd_id FROM DVDs WHERE movie = @InfinityWar and price = (SELECT MIN(price) FROM DVDs WHERE movie = @InfinityWar));\r\n",
                "\r\n",
                "INSERT INTO VideoInvoices(video_invoice_id, customer, video, rented_on, return_status, returned_on)\r\n",
                "VALUES\r\n",
                "('snjOIHIFH3321', 'Q5C5EEHW5K', @WallStCHEAP, '04/05/2021 6:50PM', 1, 4, '04/08/2021 12:05PM');  -- 0 meaning false, 1 meaning true for BIT values\r\n",
                "\r\n",
                "INSERT INTO DVDInvoices(dvd_invoice_id, customer, dvd, rented_on, return_status, returned_on)\r\n",
                "VALUES\r\n",
                "('snjOIHIFH3321', 'Q5C5EEHW5K', @InfinityWarCHEAP, '04/05/2021 6:50PM', 1, '04/08/2021 12:05PM'),  -- 0 meaning false, 1 meaning true for BIT values\r\n",
                "('34NPVHSRLDRHV', 'Q5C5EEHW5K', @GetOutCHEAP, '04/05/2021 6:47PM', 1, '04/08/2021 12:00PM');"
            ],
            "metadata": {
                "azdata_cell_guid": "f5f7a922-2aca-4894-9477-228cf2b64e33",
                "tags": [
                    "hide_input"
                ]
            },
            "outputs": [],
            "execution_count": null
        },
        {
            "cell_type": "markdown",
            "source": [
                "```\n",
                "Customers Manipulation\n",
                "```"
            ],
            "metadata": {
                "azdata_cell_guid": "f7ca1d51-8591-427e-b406-f4fca3f2da93"
            }
        },
        {
            "cell_type": "code",
            "source": [
                "SELECT full_name as 'Full Name', phone_number as 'Phone Number', res_address as 'Mailing Address' FROM Customers;\r\n",
                "\r\n",
                "SELECT * FROM VideoCharges \r\n",
                "WHERE paid_status=0;\r\n",
                "\r\n",
                "-- copy id from result\r\n",
                "\r\n",
                ""
            ],
            "metadata": {
                "azdata_cell_guid": "9561c4bd-cea0-49b7-8976-9b12d1247171",
                "tags": []
            },
            "outputs": [
                {
                    "output_type": "display_data",
                    "data": {
                        "text/html": "(23 rows affected)"
                    },
                    "metadata": {}
                },
                {
                    "output_type": "display_data",
                    "data": {
                        "text/html": "(2 rows affected)"
                    },
                    "metadata": {}
                },
                {
                    "output_type": "display_data",
                    "data": {
                        "text/html": "Total execution time: 00:00:00.112"
                    },
                    "metadata": {}
                },
                {
                    "output_type": "execute_result",
                    "metadata": {},
                    "execution_count": 3,
                    "data": {
                        "application/vnd.dataresource+json": {
                            "schema": {
                                "fields": [
                                    {
                                        "name": "Full Name"
                                    },
                                    {
                                        "name": "Phone Number"
                                    },
                                    {
                                        "name": "Mailing Address"
                                    }
                                ]
                            },
                            "data": [
                                {
                                    "0": "Percy Smith",
                                    "1": "2024899904",
                                    "2": "2 Forgie Court. 23452"
                                },
                                {
                                    "0": "Martin Roger",
                                    "1": "5712535435",
                                    "2": "433 Virginia Beach Lane. 23452"
                                },
                                {
                                    "0": "Vivian Richards",
                                    "1": "2020645646",
                                    "2": "56034 Sally Way. 23451"
                                },
                                {
                                    "0": "Oluwasum Fields",
                                    "1": "5715436739",
                                    "2": "8769 Waves St. 23456"
                                },
                                {
                                    "0": "Gregory Kay",
                                    "1": "7577657856",
                                    "2": "3214 Tuners Lane. 23456"
                                },
                                {
                                    "0": "Pok Higgins",
                                    "1": "5409069906",
                                    "2": "938 Oceanview Rd. 23456"
                                },
                                {
                                    "0": "Kaiden Choi",
                                    "1": "7576546904",
                                    "2": "876 Ingleton Lane. 23452"
                                },
                                {
                                    "0": "Nasir Rodrigues",
                                    "1": "5404346560",
                                    "2": "5345 Turners Rd. 23451"
                                },
                                {
                                    "0": "Forgy Armstrong",
                                    "1": "2026540963",
                                    "2": "238 Kurtsy Rd. 23451"
                                },
                                {
                                    "0": "Fred Johnson",
                                    "1": "5714765554",
                                    "2": "761 NorthWest St. 23451"
                                },
                                {
                                    "0": "Lola Holeman",
                                    "1": "2025456554",
                                    "2": "97 Forbes Court. 23456"
                                },
                                {
                                    "0": "Kristian Browns",
                                    "1": "5408365466",
                                    "2": "357 Corteges St. 23452"
                                },
                                {
                                    "0": "Mason Turner",
                                    "1": "7576346352",
                                    "2": "2354 Bolly St. 23456"
                                },
                                {
                                    "0": "Dianna Washington",
                                    "1": "2027657764",
                                    "2": "73 Courtsy Way. 23451"
                                },
                                {
                                    "0": "Carly Davies",
                                    "1": "5408776757",
                                    "2": "23 East Rd. 23456"
                                },
                                {
                                    "0": "Gianna Mendez",
                                    "1": "5718768767",
                                    "2": "521 Fredston St. 23456"
                                },
                                {
                                    "0": "Frankie Wilson",
                                    "1": "5716542532",
                                    "2": "434 Joboson Way. 23452"
                                },
                                {
                                    "0": "Luke Matthews",
                                    "1": "7570432427",
                                    "2": "764 Forkers Court. 23456"
                                },
                                {
                                    "0": "Cathryn Folts",
                                    "1": "7574878683",
                                    "2": "99 Kerters Court. 23456"
                                },
                                {
                                    "0": "Joie Mentzer",
                                    "1": "5404346563",
                                    "2": "123 Juneway St. 23451"
                                },
                                {
                                    "0": "Kyra Samuel",
                                    "1": "5404325455",
                                    "2": "654 Harrison Lane. 23456"
                                },
                                {
                                    "0": "McKenzie Tincher",
                                    "1": "2024765435",
                                    "2": "523 Blocksi Way. 23451"
                                },
                                {
                                    "0": "Bobby Glover",
                                    "1": "7574543542",
                                    "2": "1057 Pacific Court. 23451"
                                }
                            ]
                        },
                        "text/html": [
                            "<table>",
                            "<tr><th>Full Name</th><th>Phone Number</th><th>Mailing Address</th></tr>",
                            "<tr><td>Percy Smith</td><td>2024899904</td><td>2 Forgie Court. 23452</td></tr>",
                            "<tr><td>Martin Roger</td><td>5712535435</td><td>433 Virginia Beach Lane. 23452</td></tr>",
                            "<tr><td>Vivian Richards</td><td>2020645646</td><td>56034 Sally Way. 23451</td></tr>",
                            "<tr><td>Oluwasum Fields</td><td>5715436739</td><td>8769 Waves St. 23456</td></tr>",
                            "<tr><td>Gregory Kay</td><td>7577657856</td><td>3214 Tuners Lane. 23456</td></tr>",
                            "<tr><td>Pok Higgins</td><td>5409069906</td><td>938 Oceanview Rd. 23456</td></tr>",
                            "<tr><td>Kaiden Choi</td><td>7576546904</td><td>876 Ingleton Lane. 23452</td></tr>",
                            "<tr><td>Nasir Rodrigues</td><td>5404346560</td><td>5345 Turners Rd. 23451</td></tr>",
                            "<tr><td>Forgy Armstrong</td><td>2026540963</td><td>238 Kurtsy Rd. 23451</td></tr>",
                            "<tr><td>Fred Johnson</td><td>5714765554</td><td>761 NorthWest St. 23451</td></tr>",
                            "<tr><td>Lola Holeman</td><td>2025456554</td><td>97 Forbes Court. 23456</td></tr>",
                            "<tr><td>Kristian Browns</td><td>5408365466</td><td>357 Corteges St. 23452</td></tr>",
                            "<tr><td>Mason Turner</td><td>7576346352</td><td>2354 Bolly St. 23456</td></tr>",
                            "<tr><td>Dianna Washington</td><td>2027657764</td><td>73 Courtsy Way. 23451</td></tr>",
                            "<tr><td>Carly Davies</td><td>5408776757</td><td>23 East Rd. 23456</td></tr>",
                            "<tr><td>Gianna Mendez</td><td>5718768767</td><td>521 Fredston St. 23456</td></tr>",
                            "<tr><td>Frankie Wilson</td><td>5716542532</td><td>434 Joboson Way. 23452</td></tr>",
                            "<tr><td>Luke Matthews</td><td>7570432427</td><td>764 Forkers Court. 23456</td></tr>",
                            "<tr><td>Cathryn Folts</td><td>7574878683</td><td>99 Kerters Court. 23456</td></tr>",
                            "<tr><td>Joie Mentzer</td><td>5404346563</td><td>123 Juneway St. 23451</td></tr>",
                            "<tr><td>Kyra Samuel</td><td>5404325455</td><td>654 Harrison Lane. 23456</td></tr>",
                            "<tr><td>McKenzie Tincher</td><td>2024765435</td><td>523 Blocksi Way. 23451</td></tr>",
                            "<tr><td>Bobby Glover</td><td>7574543542</td><td>1057 Pacific Court. 23451</td></tr>",
                            "</table>"
                        ]
                    }
                },
                {
                    "output_type": "execute_result",
                    "metadata": {},
                    "execution_count": 3,
                    "data": {
                        "application/vnd.dataresource+json": {
                            "schema": {
                                "fields": [
                                    {
                                        "name": "video_charge_id"
                                    },
                                    {
                                        "name": "video_invoice"
                                    },
                                    {
                                        "name": "charge_type"
                                    },
                                    {
                                        "name": "charge_fee"
                                    },
                                    {
                                        "name": "customer"
                                    },
                                    {
                                        "name": "charge_date"
                                    },
                                    {
                                        "name": "tax"
                                    },
                                    {
                                        "name": "paid_status"
                                    }
                                ]
                            },
                            "data": [
                                {
                                    "0": "3VSOIHbsaCSZc",
                                    "1": "JIOFJOI4123FD",
                                    "2": "1",
                                    "3": "4.99",
                                    "4": "L56ZMK77JJ",
                                    "5": "2020-03-07 00:00:00.000",
                                    "6": "NULL",
                                    "7": "0"
                                },
                                {
                                    "0": "lbif9312kbfe3",
                                    "1": "nfININD321765",
                                    "2": "2",
                                    "3": "20.99",
                                    "4": "KJSM4Q3BNY",
                                    "5": "2020-07-25 00:00:00.000",
                                    "6": "5.99",
                                    "7": "0"
                                }
                            ]
                        },
                        "text/html": [
                            "<table>",
                            "<tr><th>video_charge_id</th><th>video_invoice</th><th>charge_type</th><th>charge_fee</th><th>customer</th><th>charge_date</th><th>tax</th><th>paid_status</th></tr>",
                            "<tr><td>3VSOIHbsaCSZc</td><td>JIOFJOI4123FD</td><td>1</td><td>4.99</td><td>L56ZMK77JJ</td><td>2020-03-07 00:00:00.000</td><td>NULL</td><td>0</td></tr>",
                            "<tr><td>lbif9312kbfe3</td><td>nfININD321765</td><td>2</td><td>20.99</td><td>KJSM4Q3BNY</td><td>2020-07-25 00:00:00.000</td><td>5.99</td><td>0</td></tr>",
                            "</table>"
                        ]
                    }
                }
            ],
            "execution_count": 3
        }
    ]
}